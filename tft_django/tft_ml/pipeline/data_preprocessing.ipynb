{
 "cells": [
  {
   "cell_type": "code",
   "execution_count": null,
   "id": "initial_id",
   "metadata": {
    "collapsed": true,
    "is_executing": true
   },
   "outputs": [],
   "source": [
    "import psycopg2\n",
    "from config import load_config\n",
    "from query import tft_game_query\n",
    "import pandas as pd"
   ]
  },
  {
   "cell_type": "code",
   "outputs": [],
   "source": [
    "config = load_config()\n",
    "queryCommand = tft_game_query()\n",
    "\n",
    "try:\n",
    "    with psycopg2.connect(**config) as conn:\n",
    "        with conn.cursor() as cur:\n",
    "            cur.execute(queryCommand)\n",
    "            data = cur.fetchall()\n",
    "            cur.execute(queryCommand + ' LIMIT 0')\n",
    "            column_names = [desc[0] for desc in cur.description]\n",
    "\n",
    "except (Exception, psycopg2.DatabaseError) as error:\n",
    "    print(error)"
   ],
   "metadata": {
    "collapsed": false
   },
   "id": "5d028d87e376111b"
  },
  {
   "cell_type": "code",
   "outputs": [],
   "source": [
    "df = pd.DataFrame(data, columns=column_names)\n",
    "file_name = \"tft_games.csv\"\n",
    "try:\n",
    "    df.to_csv(file_name, encoding='utf-8', index=False)\n",
    "    print(\"File {} saved\".format(file_name))\n",
    "except Exception as e:\n",
    "    print(\"File {} could not be saved. Error {}\".format(file_name, e))"
   ],
   "metadata": {
    "collapsed": false
   },
   "id": "125b5ba33ee5662f"
  },
  {
   "cell_type": "code",
   "outputs": [],
   "source": [
    "df = pd.read_csv('tft_games.csv')\n",
    "print(df.head().to_string())\n",
    "print(df.shape)\n",
    "if df.isnull().values.any():\n",
    "    print(\"There are {} null values in the df\".format(df.isnull().sum().sum()))\n",
    "    nan_rows = df[df.isnull().T.any()].to_string()\n",
    "    print(\"There are the null rows: {}\".format(nan_rows))\n",
    "    # From this, we see that the null values are mostly from lobby_rank, as all players in the\n",
    "    # game are unranked\n",
    "else:\n",
    "    print(\"There are no null values in the dataframe.\")"
   ],
   "metadata": {
    "collapsed": false
   },
   "id": "1184b85309984e7d"
  }
 ],
 "metadata": {
  "kernelspec": {
   "display_name": "Python 3",
   "language": "python",
   "name": "python3"
  },
  "language_info": {
   "codemirror_mode": {
    "name": "ipython",
    "version": 2
   },
   "file_extension": ".py",
   "mimetype": "text/x-python",
   "name": "python",
   "nbconvert_exporter": "python",
   "pygments_lexer": "ipython2",
   "version": "2.7.6"
  }
 },
 "nbformat": 4,
 "nbformat_minor": 5
}
